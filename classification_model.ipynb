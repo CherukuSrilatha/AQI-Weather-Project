{
  "nbformat": 4,
  "nbformat_minor": 0,
  "metadata": {
    "colab": {
      "provenance": []
    },
    "kernelspec": {
      "name": "python3",
      "display_name": "Python 3"
    },
    "language_info": {
      "name": "python"
    }
  },
  "cells": [
    {
      "cell_type": "code",
      "execution_count": null,
      "metadata": {
        "colab": {
          "base_uri": "https://localhost:8080/"
        },
        "id": "ekoWiZ35Ij_Q",
        "outputId": "b2cb1dfd-ca36-44ef-e60a-db531b61eeee"
      },
      "outputs": [
        {
          "output_type": "stream",
          "name": "stdout",
          "text": [
            "✅ Saved: Data/Html_Data/2018/1.html\n",
            "✅ Saved: Data/Html_Data/2018/2.html\n",
            "✅ Saved: Data/Html_Data/2018/3.html\n",
            "✅ Saved: Data/Html_Data/2018/4.html\n",
            "✅ Saved: Data/Html_Data/2018/5.html\n",
            "✅ Saved: Data/Html_Data/2018/6.html\n",
            "✅ Saved: Data/Html_Data/2018/7.html\n",
            "✅ Saved: Data/Html_Data/2018/8.html\n",
            "✅ Saved: Data/Html_Data/2018/9.html\n",
            "✅ Saved: Data/Html_Data/2018/10.html\n",
            "✅ Saved: Data/Html_Data/2018/11.html\n",
            "✅ Saved: Data/Html_Data/2018/12.html\n",
            "✅ Saved: Data/Html_Data/2019/1.html\n",
            "✅ Saved: Data/Html_Data/2019/2.html\n",
            "✅ Saved: Data/Html_Data/2019/3.html\n",
            "✅ Saved: Data/Html_Data/2019/4.html\n",
            "✅ Saved: Data/Html_Data/2019/5.html\n",
            "✅ Saved: Data/Html_Data/2019/6.html\n",
            "✅ Saved: Data/Html_Data/2019/7.html\n",
            "✅ Saved: Data/Html_Data/2019/8.html\n",
            "✅ Saved: Data/Html_Data/2019/9.html\n",
            "✅ Saved: Data/Html_Data/2019/10.html\n",
            "✅ Saved: Data/Html_Data/2019/11.html\n",
            "✅ Saved: Data/Html_Data/2019/12.html\n",
            "✅ Saved: Data/Html_Data/2020/1.html\n",
            "✅ Saved: Data/Html_Data/2020/2.html\n",
            "✅ Saved: Data/Html_Data/2020/3.html\n",
            "✅ Saved: Data/Html_Data/2020/4.html\n",
            "✅ Saved: Data/Html_Data/2020/5.html\n",
            "✅ Saved: Data/Html_Data/2020/6.html\n",
            "✅ Saved: Data/Html_Data/2020/7.html\n",
            "✅ Saved: Data/Html_Data/2020/8.html\n",
            "✅ Saved: Data/Html_Data/2020/9.html\n",
            "✅ Saved: Data/Html_Data/2020/10.html\n",
            "✅ Saved: Data/Html_Data/2020/11.html\n",
            "✅ Saved: Data/Html_Data/2020/12.html\n",
            "✅ Saved: Data/Html_Data/2021/1.html\n",
            "✅ Saved: Data/Html_Data/2021/2.html\n",
            "✅ Saved: Data/Html_Data/2021/3.html\n",
            "✅ Saved: Data/Html_Data/2021/4.html\n",
            "✅ Saved: Data/Html_Data/2021/5.html\n",
            "✅ Saved: Data/Html_Data/2021/6.html\n",
            "✅ Saved: Data/Html_Data/2021/7.html\n",
            "✅ Saved: Data/Html_Data/2021/8.html\n",
            "✅ Saved: Data/Html_Data/2021/9.html\n",
            "✅ Saved: Data/Html_Data/2021/10.html\n",
            "✅ Saved: Data/Html_Data/2021/11.html\n",
            "✅ Saved: Data/Html_Data/2021/12.html\n",
            "✅ Saved: Data/Html_Data/2022/1.html\n",
            "✅ Saved: Data/Html_Data/2022/2.html\n",
            "✅ Saved: Data/Html_Data/2022/3.html\n",
            "✅ Saved: Data/Html_Data/2022/4.html\n",
            "✅ Saved: Data/Html_Data/2022/5.html\n",
            "✅ Saved: Data/Html_Data/2022/6.html\n",
            "✅ Saved: Data/Html_Data/2022/7.html\n",
            "✅ Saved: Data/Html_Data/2022/8.html\n",
            "✅ Saved: Data/Html_Data/2022/9.html\n",
            "✅ Saved: Data/Html_Data/2022/10.html\n",
            "✅ Saved: Data/Html_Data/2022/11.html\n",
            "✅ Saved: Data/Html_Data/2022/12.html\n",
            "✅ Saved: Data/Html_Data/2023/1.html\n",
            "✅ Saved: Data/Html_Data/2023/2.html\n",
            "✅ Saved: Data/Html_Data/2023/3.html\n",
            "✅ Saved: Data/Html_Data/2023/4.html\n",
            "✅ Saved: Data/Html_Data/2023/5.html\n",
            "✅ Saved: Data/Html_Data/2023/6.html\n",
            "✅ Saved: Data/Html_Data/2023/7.html\n",
            "✅ Saved: Data/Html_Data/2023/8.html\n",
            "✅ Saved: Data/Html_Data/2023/9.html\n",
            "✅ Saved: Data/Html_Data/2023/10.html\n",
            "✅ Saved: Data/Html_Data/2023/11.html\n",
            "✅ Saved: Data/Html_Data/2023/12.html\n",
            "✅ Saved: Data/Html_Data/2024/1.html\n",
            "✅ Saved: Data/Html_Data/2024/2.html\n",
            "✅ Saved: Data/Html_Data/2024/3.html\n",
            "✅ Saved: Data/Html_Data/2024/4.html\n",
            "✅ Saved: Data/Html_Data/2024/5.html\n",
            "✅ Saved: Data/Html_Data/2024/6.html\n",
            "✅ Saved: Data/Html_Data/2024/7.html\n",
            "✅ Saved: Data/Html_Data/2024/8.html\n",
            "✅ Saved: Data/Html_Data/2024/9.html\n",
            "✅ Saved: Data/Html_Data/2024/10.html\n",
            "✅ Saved: Data/Html_Data/2024/11.html\n",
            "✅ Saved: Data/Html_Data/2024/12.html\n",
            "Time taken: 76.54 seconds\n"
          ]
        }
      ],
      "source": [
        "import os\n",
        "import time\n",
        "import requests\n",
        "import sys\n",
        "\n",
        "def retrieve_html():\n",
        "    for year in range(2018, 2025):\n",
        "        for month in range(1, 13):\n",
        "            if month < 10:\n",
        "                url = 'http://en.tutiempo.net/climate/0{}-{}/ws-421820.html'.format(month, year)\n",
        "            else:\n",
        "                url = 'http://en.tutiempo.net/climate/{}-{}/ws-421820.html'.format(month, year)\n",
        "\n",
        "            try:\n",
        "                response = requests.get(url)\n",
        "                response.raise_for_status()\n",
        "                text_utf = response.text.encode('utf-8')\n",
        "\n",
        "                folder_path = \"Data/Html_Data/{}\".format(year)\n",
        "                os.makedirs(folder_path, exist_ok=True)\n",
        "\n",
        "                with open(\"{}/{}.html\".format(folder_path, month), \"wb\") as output:\n",
        "                    output.write(text_utf)\n",
        "\n",
        "                print(f\"✅ Saved: {folder_path}/{month}.html\")\n",
        "            except Exception as e:\n",
        "                print(f\" Failed: {url} — {e}\")\n",
        "\n",
        "    sys.stdout.flush()\n",
        "\n",
        "start_time = time.time()\n",
        "retrieve_html()\n",
        "stop_time = time.time()\n",
        "print(\"Time taken: {:.2f} seconds\".format(stop_time - start_time))\n"
      ]
    },
    {
      "cell_type": "code",
      "source": [
        "import shutil\n",
        "shutil.make_archive(\"html_data_all\", 'zip', \"Data/Html_Data\")\n",
        "\n",
        "from google.colab import files\n",
        "files.download(\"html_data_all.zip\")\n"
      ],
      "metadata": {
        "colab": {
          "base_uri": "https://localhost:8080/",
          "height": 17
        },
        "id": "YBjW5UWGI8SK",
        "outputId": "bd038974-12c5-4ee4-fc70-76f47febdc89"
      },
      "execution_count": null,
      "outputs": [
        {
          "output_type": "display_data",
          "data": {
            "text/plain": [
              "<IPython.core.display.Javascript object>"
            ],
            "application/javascript": [
              "\n",
              "    async function download(id, filename, size) {\n",
              "      if (!google.colab.kernel.accessAllowed) {\n",
              "        return;\n",
              "      }\n",
              "      const div = document.createElement('div');\n",
              "      const label = document.createElement('label');\n",
              "      label.textContent = `Downloading \"${filename}\": `;\n",
              "      div.appendChild(label);\n",
              "      const progress = document.createElement('progress');\n",
              "      progress.max = size;\n",
              "      div.appendChild(progress);\n",
              "      document.body.appendChild(div);\n",
              "\n",
              "      const buffers = [];\n",
              "      let downloaded = 0;\n",
              "\n",
              "      const channel = await google.colab.kernel.comms.open(id);\n",
              "      // Send a message to notify the kernel that we're ready.\n",
              "      channel.send({})\n",
              "\n",
              "      for await (const message of channel.messages) {\n",
              "        // Send a message to notify the kernel that we're ready.\n",
              "        channel.send({})\n",
              "        if (message.buffers) {\n",
              "          for (const buffer of message.buffers) {\n",
              "            buffers.push(buffer);\n",
              "            downloaded += buffer.byteLength;\n",
              "            progress.value = downloaded;\n",
              "          }\n",
              "        }\n",
              "      }\n",
              "      const blob = new Blob(buffers, {type: 'application/binary'});\n",
              "      const a = document.createElement('a');\n",
              "      a.href = window.URL.createObjectURL(blob);\n",
              "      a.download = filename;\n",
              "      div.appendChild(a);\n",
              "      a.click();\n",
              "      div.remove();\n",
              "    }\n",
              "  "
            ]
          },
          "metadata": {}
        },
        {
          "output_type": "display_data",
          "data": {
            "text/plain": [
              "<IPython.core.display.Javascript object>"
            ],
            "application/javascript": [
              "download(\"download_d00413b0-aa8f-46d6-a212-f47c697f7888\", \"html_data_all.zip\", 1292465)"
            ]
          },
          "metadata": {}
        }
      ]
    },
    {
      "cell_type": "code",
      "source": [
        "import pandas as pd\n",
        "from bs4 import BeautifulSoup\n",
        "import os\n",
        "\n",
        "final_weather = []\n",
        "\n",
        "for year in range(2018, 2025):\n",
        "    for month in range(1, 13):\n",
        "        try:\n",
        "            file_path = f\"Data/Html_Data/{year}/{month}.html\"\n",
        "            with open(file_path, \"rb\") as file:\n",
        "                soup = BeautifulSoup(file, \"html.parser\")\n",
        "\n",
        "            table = soup.find(\"table\", attrs={\"class\": \"medias mensuales numspan\"})\n",
        "            if not table:\n",
        "                continue\n",
        "            rows = table.find_all(\"tr\")[1:]\n",
        "\n",
        "            for row in rows:\n",
        "                cols = row.find_all(\"td\")\n",
        "                if len(cols) >= 8:\n",
        "                    day = cols[0].text.strip()\n",
        "                    if day.isdigit():\n",
        "                        temp = cols[1].text.strip()\n",
        "                        dew = cols[2].text.strip()\n",
        "                        humidity = cols[3].text.strip()\n",
        "                        wind = cols[7].text.strip()\n",
        "\n",
        "                        final_weather.append([f\"{year}-{month:02d}-{int(day):02d}\", temp, dew, humidity, wind])\n",
        "        except:\n",
        "            pass\n",
        "\n",
        "\n",
        "df_weather = pd.DataFrame(final_weather, columns=[\"Date\", \"Temp\", \"Dew\", \"Humidity\", \"Wind\"])\n",
        "df_weather.to_csv(\"weather_2018_2024.csv\", index=False)\n",
        "print(\"✅ weather_2018_2024.csv created\")\n"
      ],
      "metadata": {
        "colab": {
          "base_uri": "https://localhost:8080/"
        },
        "id": "vs_8WiG6I9fh",
        "outputId": "3bb53e53-8cc7-405b-a563-279ff3aba0ea"
      },
      "execution_count": null,
      "outputs": [
        {
          "output_type": "stream",
          "name": "stdout",
          "text": [
            "✅ weather_2018_2024.csv created\n"
          ]
        }
      ]
    },
    {
      "cell_type": "code",
      "source": [
        "import pandas as pd\n",
        "\n",
        "\n",
        "weather_df = pd.read_csv(\"weather_2018_2024.csv\")\n",
        "weather_df['Date'] = pd.to_datetime(weather_df['Date'])\n",
        "\n",
        "aqi_df = pd.read_csv(\"Hyderabad_AQI_Dataset.csv\")\n",
        "aqi_df['Date'] = pd.to_datetime(aqi_df['Date'])\n",
        "\n",
        "merged_df = pd.merge(weather_df, aqi_df, on='Date', how='inner')\n",
        "\n",
        "merged_df.to_csv(\"merged_aqi_weather.csv\", index=False)\n",
        "print(\"✅ Merged dataset saved as merged_aqi_weather.csv\")\n"
      ],
      "metadata": {
        "colab": {
          "base_uri": "https://localhost:8080/"
        },
        "id": "otWm3VsUJIa6",
        "outputId": "708872bb-3730-41b1-8a32-12e8ad8ba25e"
      },
      "execution_count": null,
      "outputs": [
        {
          "output_type": "stream",
          "name": "stderr",
          "text": [
            "/tmp/ipython-input-4-1912738232.py:8: UserWarning: Could not infer format, so each element will be parsed individually, falling back to `dateutil`. To ensure parsing is consistent and as-expected, please specify a format.\n",
            "  aqi_df['Date'] = pd.to_datetime(aqi_df['Date'])\n"
          ]
        },
        {
          "output_type": "stream",
          "name": "stdout",
          "text": [
            "✅ Merged dataset saved as merged_aqi_weather.csv\n"
          ]
        }
      ]
    },
    {
      "cell_type": "code",
      "source": [
        "import os\n",
        "from bs4 import BeautifulSoup\n",
        "import pandas as pd\n",
        "\n",
        "base_path = \"Data/Html_Data\"\n",
        "all_data = []\n",
        "\n",
        "for year in range(2018, 2025):\n",
        "    for month in range(1, 13):\n",
        "        file_path = f\"{base_path}/{year}/{month}.html\"\n",
        "        if not os.path.exists(file_path):\n",
        "            continue\n",
        "\n",
        "        with open(file_path, 'rb') as f:\n",
        "            soup = BeautifulSoup(f, 'html.parser')\n",
        "\n",
        "        table = soup.find(\"table\", attrs={\"class\": \"medias mensuales numspan\"})\n",
        "        if not table:\n",
        "            continue\n",
        "\n",
        "        rows = table.find_all(\"tr\")[1:]  # Skip header\n",
        "\n",
        "        for row in rows:\n",
        "            cols = row.find_all(\"td\")\n",
        "            if len(cols) >= 10:\n",
        "                try:\n",
        "                    day = cols[0].text.strip()\n",
        "                    date = f\"{year}-{month:02d}-{int(day):02d}\"\n",
        "                    temp = cols[1].text.strip()\n",
        "                    dew = cols[2].text.strip()\n",
        "                    humidity = cols[3].text.strip()\n",
        "                    wind = cols[4].text.strip()\n",
        "                    pressure = cols[5].text.strip()\n",
        "                    rainfall = cols[6].text.strip()\n",
        "                    visibility = cols[7].text.strip()\n",
        "                    cloud = cols[8].text.strip()\n",
        "\n",
        "                    all_data.append([date, pressure, rainfall, visibility, cloud])\n",
        "                except:\n",
        "                    continue\n",
        "\n",
        "columns = ['Date', 'Pressure', 'Rainfall', 'Visibility', 'Cloud']\n",
        "enhanced_df = pd.DataFrame(all_data, columns=columns)\n",
        "\n",
        "enhanced_df.to_csv(\"enhanced_weather.csv\", index=False)\n",
        "print(\"✅ enhanced_weather.csv saved.\")\n",
        "\n",
        "from google.colab import files\n",
        "files.download(\"enhanced_weather.csv\")\n"
      ],
      "metadata": {
        "colab": {
          "base_uri": "https://localhost:8080/",
          "height": 34
        },
        "id": "tOrn_QxYJUYd",
        "outputId": "414cecf3-978f-4c95-9dc4-2162ce94514b"
      },
      "execution_count": null,
      "outputs": [
        {
          "output_type": "stream",
          "name": "stdout",
          "text": [
            "✅ enhanced_weather.csv saved.\n"
          ]
        },
        {
          "output_type": "display_data",
          "data": {
            "text/plain": [
              "<IPython.core.display.Javascript object>"
            ],
            "application/javascript": [
              "\n",
              "    async function download(id, filename, size) {\n",
              "      if (!google.colab.kernel.accessAllowed) {\n",
              "        return;\n",
              "      }\n",
              "      const div = document.createElement('div');\n",
              "      const label = document.createElement('label');\n",
              "      label.textContent = `Downloading \"${filename}\": `;\n",
              "      div.appendChild(label);\n",
              "      const progress = document.createElement('progress');\n",
              "      progress.max = size;\n",
              "      div.appendChild(progress);\n",
              "      document.body.appendChild(div);\n",
              "\n",
              "      const buffers = [];\n",
              "      let downloaded = 0;\n",
              "\n",
              "      const channel = await google.colab.kernel.comms.open(id);\n",
              "      // Send a message to notify the kernel that we're ready.\n",
              "      channel.send({})\n",
              "\n",
              "      for await (const message of channel.messages) {\n",
              "        // Send a message to notify the kernel that we're ready.\n",
              "        channel.send({})\n",
              "        if (message.buffers) {\n",
              "          for (const buffer of message.buffers) {\n",
              "            buffers.push(buffer);\n",
              "            downloaded += buffer.byteLength;\n",
              "            progress.value = downloaded;\n",
              "          }\n",
              "        }\n",
              "      }\n",
              "      const blob = new Blob(buffers, {type: 'application/binary'});\n",
              "      const a = document.createElement('a');\n",
              "      a.href = window.URL.createObjectURL(blob);\n",
              "      a.download = filename;\n",
              "      div.appendChild(a);\n",
              "      a.click();\n",
              "      div.remove();\n",
              "    }\n",
              "  "
            ]
          },
          "metadata": {}
        },
        {
          "output_type": "display_data",
          "data": {
            "text/plain": [
              "<IPython.core.display.Javascript object>"
            ],
            "application/javascript": [
              "download(\"download_3e0f2bc0-d392-44bc-b240-0fb2008e4835\", \"enhanced_weather.csv\", 62335)"
            ]
          },
          "metadata": {}
        }
      ]
    },
    {
      "cell_type": "code",
      "source": [
        "import pandas as pd\n",
        "\n",
        "aqi_df = pd.read_csv(\"merged_aqi_weather.csv\")\n",
        "enhanced_df = pd.read_csv(\"enhanced_weather.csv\")\n",
        "\n",
        "aqi_df['Date'] = pd.to_datetime(aqi_df['Date'])\n",
        "enhanced_df['Date'] = pd.to_datetime(enhanced_df['Date'])\n",
        "\n",
        "\n",
        "merged_full = pd.merge(aqi_df, enhanced_df, on='Date', how='inner')\n",
        "\n",
        "\n",
        "merged_full.to_csv(\"merged_full_aqi_weather.csv\", index=False)\n",
        "print(\"✅ Merged dataset saved as merged_full_aqi_weather.csv\")\n",
        "\n",
        "\n",
        "from google.colab import files\n",
        "files.download(\"merged_full_aqi_weather.csv\")\n"
      ],
      "metadata": {
        "colab": {
          "base_uri": "https://localhost:8080/",
          "height": 34
        },
        "id": "L6jO9PgsJlPf",
        "outputId": "b1d7bf0a-0054-4607-a06e-0383f88ca731"
      },
      "execution_count": null,
      "outputs": [
        {
          "output_type": "stream",
          "name": "stdout",
          "text": [
            "✅ Merged dataset saved as merged_full_aqi_weather.csv\n"
          ]
        },
        {
          "output_type": "display_data",
          "data": {
            "text/plain": [
              "<IPython.core.display.Javascript object>"
            ],
            "application/javascript": [
              "\n",
              "    async function download(id, filename, size) {\n",
              "      if (!google.colab.kernel.accessAllowed) {\n",
              "        return;\n",
              "      }\n",
              "      const div = document.createElement('div');\n",
              "      const label = document.createElement('label');\n",
              "      label.textContent = `Downloading \"${filename}\": `;\n",
              "      div.appendChild(label);\n",
              "      const progress = document.createElement('progress');\n",
              "      progress.max = size;\n",
              "      div.appendChild(progress);\n",
              "      document.body.appendChild(div);\n",
              "\n",
              "      const buffers = [];\n",
              "      let downloaded = 0;\n",
              "\n",
              "      const channel = await google.colab.kernel.comms.open(id);\n",
              "      // Send a message to notify the kernel that we're ready.\n",
              "      channel.send({})\n",
              "\n",
              "      for await (const message of channel.messages) {\n",
              "        // Send a message to notify the kernel that we're ready.\n",
              "        channel.send({})\n",
              "        if (message.buffers) {\n",
              "          for (const buffer of message.buffers) {\n",
              "            buffers.push(buffer);\n",
              "            downloaded += buffer.byteLength;\n",
              "            progress.value = downloaded;\n",
              "          }\n",
              "        }\n",
              "      }\n",
              "      const blob = new Blob(buffers, {type: 'application/binary'});\n",
              "      const a = document.createElement('a');\n",
              "      a.href = window.URL.createObjectURL(blob);\n",
              "      a.download = filename;\n",
              "      div.appendChild(a);\n",
              "      a.click();\n",
              "      div.remove();\n",
              "    }\n",
              "  "
            ]
          },
          "metadata": {}
        },
        {
          "output_type": "display_data",
          "data": {
            "text/plain": [
              "<IPython.core.display.Javascript object>"
            ],
            "application/javascript": [
              "download(\"download_05dd5247-be53-4dfd-8aa6-8eb93e384fde\", \"merged_full_aqi_weather.csv\", 263428)"
            ]
          },
          "metadata": {}
        }
      ]
    },
    {
      "cell_type": "code",
      "source": [
        "import pandas as pd\n",
        "df = pd.read_csv(\"merged_full_aqi_weather.csv\")\n",
        "df = df.loc[:, ~df.columns.str.contains('^Unnamed')]\n",
        "df.to_csv(\"merged_full_cleaned.csv\", index=False)\n",
        "print(\"✅ Cleaned file saved as merged_full_cleaned.csv\")"
      ],
      "metadata": {
        "colab": {
          "base_uri": "https://localhost:8080/"
        },
        "id": "LTRPcsuaJpcQ",
        "outputId": "ed9a8778-3df9-4dd1-a7cb-f3f342604da1"
      },
      "execution_count": null,
      "outputs": [
        {
          "output_type": "stream",
          "name": "stdout",
          "text": [
            "✅ Cleaned file saved as merged_full_cleaned.csv\n"
          ]
        }
      ]
    },
    {
      "cell_type": "code",
      "source": [
        "from google.colab import files\n",
        "files.download(\"merged_full_cleaned.csv\")"
      ],
      "metadata": {
        "colab": {
          "base_uri": "https://localhost:8080/",
          "height": 17
        },
        "id": "BVL6ZrKSJtj-",
        "outputId": "9b51527e-830f-47ca-e743-1c2abde4a28a"
      },
      "execution_count": null,
      "outputs": [
        {
          "output_type": "display_data",
          "data": {
            "text/plain": [
              "<IPython.core.display.Javascript object>"
            ],
            "application/javascript": [
              "\n",
              "    async function download(id, filename, size) {\n",
              "      if (!google.colab.kernel.accessAllowed) {\n",
              "        return;\n",
              "      }\n",
              "      const div = document.createElement('div');\n",
              "      const label = document.createElement('label');\n",
              "      label.textContent = `Downloading \"${filename}\": `;\n",
              "      div.appendChild(label);\n",
              "      const progress = document.createElement('progress');\n",
              "      progress.max = size;\n",
              "      div.appendChild(progress);\n",
              "      document.body.appendChild(div);\n",
              "\n",
              "      const buffers = [];\n",
              "      let downloaded = 0;\n",
              "\n",
              "      const channel = await google.colab.kernel.comms.open(id);\n",
              "      // Send a message to notify the kernel that we're ready.\n",
              "      channel.send({})\n",
              "\n",
              "      for await (const message of channel.messages) {\n",
              "        // Send a message to notify the kernel that we're ready.\n",
              "        channel.send({})\n",
              "        if (message.buffers) {\n",
              "          for (const buffer of message.buffers) {\n",
              "            buffers.push(buffer);\n",
              "            downloaded += buffer.byteLength;\n",
              "            progress.value = downloaded;\n",
              "          }\n",
              "        }\n",
              "      }\n",
              "      const blob = new Blob(buffers, {type: 'application/binary'});\n",
              "      const a = document.createElement('a');\n",
              "      a.href = window.URL.createObjectURL(blob);\n",
              "      a.download = filename;\n",
              "      div.appendChild(a);\n",
              "      a.click();\n",
              "      div.remove();\n",
              "    }\n",
              "  "
            ]
          },
          "metadata": {}
        },
        {
          "output_type": "display_data",
          "data": {
            "text/plain": [
              "<IPython.core.display.Javascript object>"
            ],
            "application/javascript": [
              "download(\"download_e26d91eb-6da9-421b-9494-906216a167a7\", \"merged_full_cleaned.csv\", 230045)"
            ]
          },
          "metadata": {}
        }
      ]
    },
    {
      "cell_type": "code",
      "source": [
        "import pandas as pd\n",
        "import numpy as np\n",
        "from sklearn.model_selection import train_test_split\n",
        "from sklearn.ensemble import RandomForestClassifier\n",
        "from sklearn.metrics import classification_report, confusion_matrix\n",
        "import seaborn as sns\n",
        "import matplotlib.pyplot as plt\n",
        "\n",
        "# 1. Load data\n",
        "data = pd.read_csv(\"merged_full_cleaned.csv\")\n",
        "\n",
        "# 2. Drop rows with missing AQI\n",
        "data = data[data['AQI'].notna()]\n",
        "\n",
        "# 3. Define function to convert AQI values into categories\n",
        "def categorize_aqi(aqi):\n",
        "    if aqi <= 50:\n",
        "        return \"Good\"\n",
        "    elif aqi <= 100:\n",
        "        return \"Satisfactory\"\n",
        "    elif aqi <= 200:\n",
        "        return \"Moderate\"\n",
        "    elif aqi <= 300:\n",
        "        return \"Poor\"\n",
        "    elif aqi <= 400:\n",
        "        return \"Very Poor\"\n",
        "    else:\n",
        "        return \"Severe\"\n",
        "\n",
        "# 4. Apply categorization\n",
        "data['AQI_Category'] = data['AQI'].apply(categorize_aqi)\n",
        "\n",
        "# 5. Drop unnecessary columns\n",
        "data = data.drop(columns=['AQI', 'City', 'Date'])\n",
        "\n",
        "# 6. Separate features and target before numeric conversion\n",
        "X = data.drop(columns=['AQI_Category'])\n",
        "y = data['AQI_Category']\n",
        "\n",
        "# 7. Convert only features to numeric and drop rows with NaNs\n",
        "X = X.apply(pd.to_numeric, errors='coerce')\n",
        "combined = pd.concat([X, y], axis=1).dropna()\n",
        "X = combined.drop(columns=['AQI_Category'])\n",
        "y = combined['AQI_Category']\n",
        "\n",
        "# 8. Train-test split\n",
        "X_train, X_test, y_train, y_test = train_test_split(X, y, test_size=0.2, random_state=42)\n",
        "\n",
        "# 9. Train RandomForest Classifier\n",
        "clf = RandomForestClassifier(random_state=42)\n",
        "clf.fit(X_train, y_train)\n",
        "\n",
        "# 10. Predictions\n",
        "y_pred = clf.predict(X_test)\n",
        "\n",
        "# 11. Evaluation\n",
        "print(\"✅ Classification Report:\")\n",
        "print(classification_report(y_test, y_pred))\n",
        "\n",
        "print(\"✅ Confusion Matrix:\")\n",
        "cm = confusion_matrix(y_test, y_pred)\n",
        "sns.heatmap(cm, annot=True, fmt='d', cmap='Blues', xticklabels=clf.classes_, yticklabels=clf.classes_)\n",
        "plt.xlabel(\"Predicted\")\n",
        "plt.ylabel(\"Actual\")\n",
        "plt.title(\"Confusion Matrix - RandomForest AQI Classification\")\n",
        "plt.show()\n"
      ],
      "metadata": {
        "id": "eUemLnRAQ4tJ",
        "outputId": "67800a79-8230-4d2c-86ea-ae4fd4543817",
        "colab": {
          "base_uri": "https://localhost:8080/",
          "height": 680
        }
      },
      "execution_count": null,
      "outputs": [
        {
          "output_type": "stream",
          "name": "stdout",
          "text": [
            "✅ Classification Report:\n",
            "              precision    recall  f1-score   support\n",
            "\n",
            "        Good       1.00      1.00      1.00        79\n",
            "    Moderate       1.00      1.00      1.00       178\n",
            "Satisfactory       1.00      1.00      1.00       242\n",
            "\n",
            "    accuracy                           1.00       499\n",
            "   macro avg       1.00      1.00      1.00       499\n",
            "weighted avg       1.00      1.00      1.00       499\n",
            "\n",
            "✅ Confusion Matrix:\n"
          ]
        },
        {
          "output_type": "display_data",
          "data": {
            "text/plain": [
              "<Figure size 640x480 with 2 Axes>"
            ],
            "image/png": "[encoded data removed]"
          },
          "metadata": {}
        }
      ]
    },
    {
      "cell_type": "code",
      "source": [
        "importances = clf.feature_importances_\n",
        "features = X.columns\n",
        "\n",
        "plt.figure(figsize=(10, 6))\n",
        "sns.barplot(x=importances, y=features)\n",
        "plt.title(\"Feature Importances - Random Forest\")\n",
        "plt.xlabel(\"Importance\")\n",
        "plt.ylabel(\"Feature\")\n",
        "plt.tight_layout()\n",
        "plt.show()\n"
      ],
      "metadata": {
        "colab": {
          "base_uri": "https://localhost:8080/",
          "height": 607
        },
        "id": "CAMB3OaArVWU",
        "outputId": "9f820afd-ace5-4e89-9f24-c128bff37ae1"
      },
      "execution_count": null,
      "outputs": [
        {
          "output_type": "display_data",
          "data": {
            "text/plain": [
              "<Figure size 1000x600 with 1 Axes>"
            ],
            "image/png": "[encoded data removed]"
          },
          "metadata": {}
        }
      ]
    },
    {
      "cell_type": "code",
      "source": [
        "import pandas as pd\n",
        "import numpy as np\n",
        "from sklearn.model_selection import train_test_split\n",
        "from xgboost import XGBClassifier\n",
        "from sklearn.metrics import classification_report, confusion_matrix\n",
        "from sklearn.preprocessing import LabelEncoder\n",
        "import seaborn as sns\n",
        "import matplotlib.pyplot as plt\n",
        "\n",
        "data = pd.read_csv(\"merged_full_cleaned.csv\")\n",
        "\n",
        "\n",
        "data = data[data['AQI'].notna()]\n",
        "\n",
        "\n",
        "def categorize_aqi(aqi):\n",
        "    if aqi <= 50:\n",
        "        return \"Good\"\n",
        "    elif aqi <= 100:\n",
        "        return \"Satisfactory\"\n",
        "    elif aqi <= 200:\n",
        "        return \"Moderate\"\n",
        "    elif aqi <= 300:\n",
        "        return \"Poor\"\n",
        "    elif aqi <= 400:\n",
        "        return \"Very Poor\"\n",
        "    else:\n",
        "        return \"Severe\"\n",
        "\n",
        "data['AQI_Category'] = data['AQI'].apply(categorize_aqi)\n",
        "\n",
        "\n",
        "data = data.drop(columns=['AQI', 'City', 'Date'])\n",
        "\n",
        "\n",
        "features = data.drop(columns=['AQI_Category'])\n",
        "features = features.apply(pd.to_numeric, errors='coerce')\n",
        "\n",
        "# 6. Combine features and target\n",
        "data = pd.concat([features, data['AQI_Category']], axis=1)\n",
        "data = data.dropna()\n",
        "\n",
        "# 7. Define features and encoded target\n",
        "X = data.drop(columns=['AQI_Category'])\n",
        "y = data['AQI_Category']\n",
        "\n",
        "# 🔁 Encode target labels\n",
        "le = LabelEncoder()\n",
        "y_encoded = le.fit_transform(y)\n",
        "\n",
        "# 8. Train-test split\n",
        "X_train, X_test, y_train, y_test = train_test_split(X, y_encoded, test_size=0.2, random_state=42)\n",
        "\n",
        "# 9. Train XGBoost Classifier\n",
        "model = XGBClassifier(use_label_encoder=False, eval_metric='mlogloss', random_state=42)\n",
        "model.fit(X_train, y_train)\n",
        "\n",
        "# 10. Predictions\n",
        "y_pred = model.predict(X_test)\n",
        "\n",
        "# 🔁 Decode predictions for readable output\n",
        "y_test_decoded = le.inverse_transform(y_test)\n",
        "y_pred_decoded = le.inverse_transform(y_pred)\n",
        "\n",
        "# 11. Evaluation\n",
        "print(\"✅ Classification Report:\")\n",
        "print(classification_report(y_test_decoded, y_pred_decoded))\n",
        "\n",
        "print(\"✅ Confusion Matrix:\")\n",
        "cm = confusion_matrix(y_test_decoded, y_pred_decoded)\n",
        "sns.heatmap(cm, annot=True, fmt='d', cmap='Blues',\n",
        "            xticklabels=le.classes_, yticklabels=le.classes_)\n",
        "plt.xlabel(\"Predicted\")\n",
        "plt.ylabel(\"Actual\")\n",
        "plt.title(\"Confusion Matrix - XGBoost AQI Classification\")\n",
        "plt.show()\n"
      ],
      "metadata": {
        "colab": {
          "base_uri": "https://localhost:8080/",
          "height": 750
        },
        "id": "uhbtgZ9dsxVw",
        "outputId": "f3461d33-dd5f-4199-9027-1573c8191488"
      },
      "execution_count": null,
      "outputs": [
        {
          "output_type": "stream",
          "name": "stderr",
          "text": [
            "/usr/local/lib/python3.11/dist-packages/xgboost/core.py:158: UserWarning: [09:09:59] WARNING: /workspace/src/learner.cc:740: \n",
            "Parameters: { \"use_label_encoder\" } are not used.\n",
            "\n",
            "  warnings.warn(smsg, UserWarning)\n"
          ]
        },
        {
          "output_type": "stream",
          "name": "stdout",
          "text": [
            "✅ Classification Report:\n",
            "              precision    recall  f1-score   support\n",
            "\n",
            "        Good       1.00      1.00      1.00        79\n",
            "    Moderate       1.00      1.00      1.00       178\n",
            "Satisfactory       1.00      1.00      1.00       242\n",
            "\n",
            "    accuracy                           1.00       499\n",
            "   macro avg       1.00      1.00      1.00       499\n",
            "weighted avg       1.00      1.00      1.00       499\n",
            "\n",
            "✅ Confusion Matrix:\n"
          ]
        },
        {
          "output_type": "display_data",
          "data": {
            "text/plain": [
              "<Figure size 640x480 with 2 Axes>"
            ],
            "image/png": "[encoded data removed]"
          },
          "metadata": {}
        }
      ]
    }
  ]
}